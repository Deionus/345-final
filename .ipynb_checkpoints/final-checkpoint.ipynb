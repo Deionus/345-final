{
 "cells": [
  {
   "cell_type": "markdown",
   "metadata": {},
   "source": [
    "# TOKENIZER\n",
    "\n",
    "This class takes in the File Name of a movie review and converts it into a Bag of Words using the imdb.vocab file.\n",
    "\n",
    "RETURNS a string with 0 at the front and a count of each word present afterwards, delimited by whitespace. No newline character at the end."
   ]
  },
  {
   "cell_type": "code",
   "execution_count": 1,
   "metadata": {},
   "outputs": [],
   "source": [
    "import string\n",
    "import re\n",
    "\n",
    "def Tokenizer(file_name):\n",
    "    vocab = open(\"aclImdb/imdb.vocab\").read().splitlines()\n",
    "    \n",
    "    review = open(file_name).read()\n",
    "    allow = string.ascii_letters + string.whitespace + \"'-\"\n",
    "    review = re.sub('[^%s]' % allow, '', review).lower().split()\n",
    "    \n",
    "    word_count = {}\n",
    "    \n",
    "    for word in review:\n",
    "        count = review.count(word)\n",
    "        word_count[word] = count\n",
    "        \n",
    "    converted_word_count = {}\n",
    "    \n",
    "    for word, count in word_count.items():\n",
    "        try:\n",
    "            index = vocab.index(word)\n",
    "            converted_word_count[index] = count\n",
    "        except ValueError:    \n",
    "            continue\n",
    "            \n",
    "    indices = list(converted_word_count.keys())\n",
    "    indices.sort()\n",
    "    \n",
    "    sorted_bow = {}\n",
    "    \n",
    "    for index in indices:\n",
    "        sorted_bow[index] = converted_word_count[index]\n",
    "        \n",
    "    return_string = \"0 \"\n",
    "    \n",
    "    for index, count in sorted_bow.items():\n",
    "        return_string += str(index)\n",
    "        return_string += \":\"\n",
    "        return_string += str(count)\n",
    "        return_string += \" \"\n",
    "    \n",
    "    return return_string"
   ]
  },
  {
   "cell_type": "code",
   "execution_count": null,
   "metadata": {},
   "outputs": [],
   "source": [
    "#Hyperparameter Tuning\n",
    "\n",
    "from sklearn.model_selection import GridSearchCV\n",
    "\n",
    "param_grid = {'tol': [1e-1, 1e-2, 1e-3, 1e-4, 1e-5, 1e-6],\n",
    "              'max_iter': [500, 1000, 1500, 2000, 3000, 4000, 5000, 7500, 10000]}\n",
    "\n",
    "classifier = GridSearchCV(LinearSVC(), param_grid)\n",
    "\n",
    "classifer.fit(X_train, y_train)\n",
    "\n",
    "print(classifier.best_params_)"
   ]
  }
 ],
 "metadata": {
  "kernelspec": {
   "display_name": "Python 3",
   "language": "python",
   "name": "python3"
  },
  "language_info": {
   "codemirror_mode": {
    "name": "ipython",
    "version": 3
   },
   "file_extension": ".py",
   "mimetype": "text/x-python",
   "name": "python",
   "nbconvert_exporter": "python",
   "pygments_lexer": "ipython3",
   "version": "3.8.5"
  }
 },
 "nbformat": 4,
 "nbformat_minor": 4
}
